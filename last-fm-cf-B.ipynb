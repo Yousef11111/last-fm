{
 "cells": [
  {
   "cell_type": "markdown",
   "metadata": {},
   "source": [
    "# Song Recommender System using Last.fm dataset\n",
    "\n",
    "#### Task\n",
    "* Build a song recommender system for female users in the United Kingdom.\n",
    "\n",
    "#### Dataset\n",
    "* [Last.fm](http://www.dtic.upf.edu/~ocelma/MusicRecommendationDataset/index.html)\n",
    "\n",
    "#### Algorithm\n",
    "* Memory-based Collaborative Filtering (CF) Recommender System\n",
    "\n",
    "There are two common approaches for collaborative filtering (CF) recommender systems, one is memory-based and one is model-based.  \n",
    "\n",
    "In memory-based CF, we first compute item-user matrix in memory, calculate user cosine similarity (for user-based) or item cosine similarity (for item-based), and make prediction based on similarity measures (no learning is needed in this approach). The problems of memory-based CF are sparsity and scalability. To boost computational efficiency, we can leverage on sparse matrix package in scipy. This notebook demonstrates memory-based CF for song recommender system using last.fm dataset.  "
   ]
  },
  {
   "cell_type": "markdown",
   "metadata": {},
   "source": [
    "## Memory-based CF from scratch (item-based / user-based)\n",
    "\n",
    "* Step 1: Compute user-item matrix\n",
    "* Step 2: Compute item cosine similarity / user cosine similarity\n",
    "* Step 3: Make item-based / user-based predictions"
   ]
  },
  {
   "cell_type": "code",
   "execution_count": 1,
   "metadata": {},
   "outputs": [],
   "source": [
    "import pandas as pd\n",
    "import numpy as np\n",
    "from sklearn.neighbors import NearestNeighbors\n",
    "from sklearn.metrics.pairwise import pairwise_distances\n",
    "from scipy.sparse import csr_matrix\n",
    "import time"
   ]
  },
  {
   "cell_type": "markdown",
   "metadata": {},
   "source": [
    "### Load and prepare data"
   ]
  },
  {
   "cell_type": "code",
   "execution_count": 4,
   "metadata": {},
   "outputs": [
    {
     "data": {
      "text/plain": [
       "359347"
      ]
     },
     "execution_count": 4,
     "metadata": {},
     "output_type": "execute_result"
    }
   ],
   "source": [
    "# Load data\n",
    "user_data_filepath = 'lastfm/usersha1-artmbid-artname-plays.tsv'\n",
    "user_profiles_filepath = 'lastfm/usersha1-profile.tsv'\n",
    "\n",
    "df_data = pd.read_table(user_data_filepath, header = None, \n",
    "                        names = ['user', 'musicbrainz-artist-id', 'artist', 'plays'],\n",
    "                        usecols = ['user', 'artist', 'plays'])\n",
    "\n",
    "df_user = pd.read_table(user_profiles_filepath,\n",
    "                          header = None,\n",
    "                          names = ['user', 'gender', 'age', 'country', 'signup'],\n",
    "                          usecols = ['user', 'gender','country'])\n",
    "\n",
    "len(df_data) #17535655\n",
    "len(df_user) #359347"
   ]
  },
  {
   "cell_type": "markdown",
   "metadata": {},
   "source": [
    "We only use part of the dataset. First, limit the data set to female users in United Kingdom, then prepare the data into dataframes. "
   ]
  },
  {
   "cell_type": "code",
   "execution_count": 5,
   "metadata": {},
   "outputs": [
    {
     "data": {
      "text/plain": [
       "288780"
      ]
     },
     "execution_count": 5,
     "metadata": {},
     "output_type": "execute_result"
    }
   ],
   "source": [
    "# Limit the data set to female users in United Kingdom only\n",
    "df_user_UK = df_user[df_user['country']=='United Kingdom'].drop('country', axis=1)\n",
    "df_user_UK_female = df_user_UK[df_user_UK['gender']=='f'].drop('gender', axis=1)\n",
    "len(df_user_UK_female) #5851\n",
    "\n",
    "# Merge the two dataframes\n",
    "df = df_data.merge(df_user_UK_female, left_on='user', right_on ='user', how='inner')\n",
    "df = df.groupby(['user','artist'], as_index=False).sum()\n",
    "len(df) # 288780"
   ]
  },
  {
   "cell_type": "markdown",
   "metadata": {},
   "source": [
    "For illustrative purpose, I only use top 1% artists (this also help remove noise)."
   ]
  },
  {
   "cell_type": "code",
   "execution_count": 8,
   "metadata": {},
   "outputs": [
    {
     "data": {
      "text/html": [
       "<div>\n",
       "<style scoped>\n",
       "    .dataframe tbody tr th:only-of-type {\n",
       "        vertical-align: middle;\n",
       "    }\n",
       "\n",
       "    .dataframe tbody tr th {\n",
       "        vertical-align: top;\n",
       "    }\n",
       "\n",
       "    .dataframe thead th {\n",
       "        text-align: right;\n",
       "    }\n",
       "</style>\n",
       "<table border=\"1\" class=\"dataframe\">\n",
       "  <thead>\n",
       "    <tr style=\"text-align: right;\">\n",
       "      <th></th>\n",
       "      <th>total_plays</th>\n",
       "    </tr>\n",
       "  </thead>\n",
       "  <tbody>\n",
       "    <tr>\n",
       "      <th>count</th>\n",
       "      <td>2.923630e+05</td>\n",
       "    </tr>\n",
       "    <tr>\n",
       "      <th>mean</th>\n",
       "      <td>1.290702e+04</td>\n",
       "    </tr>\n",
       "    <tr>\n",
       "      <th>std</th>\n",
       "      <td>1.859816e+05</td>\n",
       "    </tr>\n",
       "    <tr>\n",
       "      <th>min</th>\n",
       "      <td>1.000000e+00</td>\n",
       "    </tr>\n",
       "    <tr>\n",
       "      <th>25%</th>\n",
       "      <td>5.300000e+01</td>\n",
       "    </tr>\n",
       "    <tr>\n",
       "      <th>50%</th>\n",
       "      <td>2.080000e+02</td>\n",
       "    </tr>\n",
       "    <tr>\n",
       "      <th>75%</th>\n",
       "      <td>1.048000e+03</td>\n",
       "    </tr>\n",
       "    <tr>\n",
       "      <th>max</th>\n",
       "      <td>3.046683e+07</td>\n",
       "    </tr>\n",
       "  </tbody>\n",
       "</table>\n",
       "</div>"
      ],
      "text/plain": [
       "        total_plays\n",
       "count  2.923630e+05\n",
       "mean   1.290702e+04\n",
       "std    1.859816e+05\n",
       "min    1.000000e+00\n",
       "25%    5.300000e+01\n",
       "50%    2.080000e+02\n",
       "75%    1.048000e+03\n",
       "max    3.046683e+07"
      ]
     },
     "execution_count": 8,
     "metadata": {},
     "output_type": "execute_result"
    }
   ],
   "source": [
    "# Find total number of plays for each artist\n",
    "df_artist = df_data.groupby(['artist'])['plays'].sum().reset_index().rename(columns = {'plays': 'total_plays'})\n",
    "df_artist.describe() \n",
    "\n"
   ]
  },
  {
   "cell_type": "code",
   "execution_count": 10,
   "metadata": {},
   "outputs": [
    {
     "data": {
      "text/plain": [
       "198483.6600000005"
      ]
     },
     "execution_count": 10,
     "metadata": {},
     "output_type": "execute_result"
    }
   ],
   "source": [
    "# Find total number of plays of the 99th percentile artist\n",
    "df_artist['total_plays'].quantile(0.99)  #198482.5899999995\n",
    "\n"
   ]
  },
  {
   "cell_type": "code",
   "execution_count": 14,
   "metadata": {},
   "outputs": [
    {
     "name": "stdout",
     "output_type": "stream",
     "text": [
      "Top 10 artists: \n",
      "                        artist  total_plays\n",
      "252494            the beatles     30466827\n",
      "217883              radiohead     27426234\n",
      "73856                coldplay     16686772\n",
      "212496             pink floyd     15943557\n",
      "186241              metallica     15481852\n",
      "194163                   muse     15451683\n",
      "199674        nine inch nails     14075619\n",
      "220128  red hot chili peppers     13547741\n",
      "171169            linkin park     12836638\n"
     ]
    }
   ],
   "source": [
    "# Set threshold = 200000 clicks, limit the data set to artists with more than 200000 clicks\n",
    "df_top_artist = df_artist[df_artist['total_plays']>200000].sort_values('total_plays', ascending=False)\n",
    "print(\"Top 10 artists: \\n\", df_top_artist[0:9])\n",
    "\n"
   ]
  },
  {
   "cell_type": "code",
   "execution_count": 15,
   "metadata": {},
   "outputs": [
    {
     "data": {
      "text/plain": [
       "202917"
      ]
     },
     "execution_count": 15,
     "metadata": {},
     "output_type": "execute_result"
    }
   ],
   "source": [
    "top_artist = list(df_top_artist['artist'])\n",
    "df = df[df['artist'].isin(top_artist)]\n",
    "\n",
    "df.head()\n",
    "len(df) #202917"
   ]
  },
  {
   "cell_type": "markdown",
   "metadata": {},
   "source": [
    "### Compute user-item matrix\n",
    "\n",
    "* user-item matrix dim = (num of users, num of items)"
   ]
  },
  {
   "cell_type": "code",
   "execution_count": 16,
   "metadata": {},
   "outputs": [],
   "source": [
    "# Create item-user matrix, where each row is the artist i (item) and each column is the user j,\n",
    "## and the entry is the number of total plays clicked by user j to artist i.\n",
    "matrix = df.pivot(index ='artist', columns='user', values='plays').fillna(0)\n",
    "matrix_sparse = csr_matrix(matrix)"
   ]
  },
  {
   "cell_type": "code",
   "execution_count": 17,
   "metadata": {},
   "outputs": [
    {
     "data": {
      "text/plain": [
       "user\n",
       "000cdac4253f2dcecbd3dff8c5d7cf8cf0426c7a      21.0\n",
       "001649ea2c073ccbf2fb29e297009413cd7fa9c8       0.0\n",
       "002bb84c527480dc67b2983690bb48027de80244       0.0\n",
       "002d3ea85bb2bb76ebd0c843154e8e2bda08b5eb       0.0\n",
       "00371cc2a235a9cad6a2367f6c98577e5a7b5324       0.0\n",
       "004db065059f186f3a7b3d5a14158921a6ca8d2b       0.0\n",
       "005c101f28304295a98c1c50e87ff31210b35e9b       0.0\n",
       "006070d4dc9c614c8fba3bd9faf2021cbdd82306       0.0\n",
       "006e098abb3f7ddce96fa311e7568aa29154effa       0.0\n",
       "0081c53036b91574b494ae96e1d6fb5a91f6e6b0       0.0\n",
       "00828880d5887fd7813f399afde03c96155ffbb2       0.0\n",
       "009690d1df4fcf4b927306379e724f2faaa853d7       0.0\n",
       "00aff800a05d75357e0f7ffa669fe350d7bad447       0.0\n",
       "00bccce04f85ce000cbdf2185f978e9d36523d12       0.0\n",
       "00cc6c779916d49a3ad6d26f7fd98060750d585a       0.0\n",
       "00ce236542614fbe1997928bc16d04085149aeca       0.0\n",
       "00d4955ea4a15be4607cebb0579414b1f39b62c0      94.0\n",
       "00e04d51e0af852d63a8787dd82b2505dbbbfec0       0.0\n",
       "00e2b22624fc5593adbabe2fef3dfa32070e4dc6       0.0\n",
       "00e907be3a556ea271f4235d5f1bbf6803128c70      10.0\n",
       "00ef835d88946c63bf1ee32084597d30a9bc2358       0.0\n",
       "00f3c5d22d8cf520a3b736184f4d5a34b5914e8f       0.0\n",
       "011304bc676acae71ca7cbf31b50cc8a9582520a       0.0\n",
       "0115a326eb02149c375628d56198755410b97cd8       0.0\n",
       "0118c86fc7f2159a06c7d290cc83e4ce381feb90       0.0\n",
       "0119efa253dd461b2613bcd7cd8bf8fbc4650a2a       0.0\n",
       "01255d50e53ac9730ea69601d9f81064f468b3b0    1910.0\n",
       "01299b98bad66908d0038bb3d3a5766780c00611       0.0\n",
       "012ea779b3c96fc2f7c139a217b2a82f7ecd7924     108.0\n",
       "01697b96af935aac7d827ca3a279b1fa45c6ca1b       0.0\n",
       "                                             ...  \n",
       "feabdf20134252451c07bb7797a43e07bc9100a7       0.0\n",
       "fec44d3994b4911e10a9493465d20ef48a93ac8d       0.0\n",
       "fecdad21ebdcfc57347f8ce427b06bfdba81dd75    1554.0\n",
       "fed4b7518dd85806ab7a05e46dee1f0199e04d3b       0.0\n",
       "fee572c28edecdafb88c54317774ffcab7624616      66.0\n",
       "feed87640f1dac25ce7df86bbc2e30a4249d2a01      45.0\n",
       "feee035c04514abc359d224d4c9f79cc8db9d2ac     554.0\n",
       "feffd2bb5c959176d8c20209e3f723428a018345       6.0\n",
       "ff03e919800d913e524af5772c0dc3131fb1a363       0.0\n",
       "ff052b9af940c2b7133dd4d7999fa7b70e351b96       0.0\n",
       "ff0ef62e60aa6f15cae3f9f67c8bcbcfac105f5b       0.0\n",
       "ff12a9b9e688cd56c8a8a6437da0bca8b434aea1       0.0\n",
       "ff14e64321e76c83ce3ea20b4144503adfc996de     408.0\n",
       "ff650c4a7c2c56670d987eadc8bc030d5cce98d7       0.0\n",
       "ff70cb7f781e533b9aa2372233cc844f7d85d89f       0.0\n",
       "ff7298797266ed100b02d6f9df156af0cd9f5e59      43.0\n",
       "ff75e60c62cc5837dc23a6efb3820647ddb125a3       0.0\n",
       "ff7fec8b4229656556fafe31c1e46ff3b32e0394     142.0\n",
       "ff80561e7d2d065459cabb196ba3ca09a292d131       0.0\n",
       "ff882af3c5ffc540a1d6ff65de7bb6c454851d35       0.0\n",
       "ff9020f368cf027f839de80bb37b1404e65bada1       0.0\n",
       "ff9ab6c827df50fab5802aa6288f4346dcad2090      13.0\n",
       "ffa46af1573f429f100ab1e98cb4557f15658c88       0.0\n",
       "ffb53fb309272e012d0ef224644272fbb495aa69     782.0\n",
       "ffbbcb73ad13eedbaff1dde9020c6abf35894869       0.0\n",
       "ffbe949ead09d1701f14450cd5c2f707c8075368       0.0\n",
       "ffcdad5fe881435cef92d927fc784313e764c347       0.0\n",
       "ffdf600473071650a287f170bc3c3aef814a26a6       0.0\n",
       "ffe405098f3e2d8e72c3c723fcb422db523a70fc       0.0\n",
       "fffe3e8eb1b2db8dcb3f3fe753552d5803d085f1       0.0\n",
       "Name: radiohead, Length: 5828, dtype: float64"
      ]
     },
     "execution_count": 17,
     "metadata": {},
     "output_type": "execute_result"
    }
   ],
   "source": [
    "# checking\n",
    "matrix.shape #(30593, 5841)   (2840, 5828)-top1%\n",
    "matrix.index.get_loc('radiohead') #1976\n",
    "matrix.index[1976]  #'radiohead'\n",
    "matrix.iloc[1976]\n",
    "matrix.loc[\"radiohead\"] #same as above"
   ]
  },
  {
   "cell_type": "markdown",
   "metadata": {},
   "source": [
    "### Compute cosine similarity between users and items \n",
    "\n",
    "* item_similarity matrix dim = (num of items, num of items)\n",
    "* user_similarity matrix dim = (num of users, num of users)"
   ]
  },
  {
   "cell_type": "code",
   "execution_count": 18,
   "metadata": {},
   "outputs": [],
   "source": [
    "item_similarity = pairwise_distances(matrix_sparse, metric='cosine')\n",
    "user_similarity = pairwise_distances(matrix_sparse.T, metric='cosine')"
   ]
  },
  {
   "cell_type": "code",
   "execution_count": 19,
   "metadata": {},
   "outputs": [
    {
     "data": {
      "text/plain": [
       "(5828, 5828)"
      ]
     },
     "execution_count": 19,
     "metadata": {},
     "output_type": "execute_result"
    }
   ],
   "source": [
    "# checking\n",
    "item_similarity.shape #(2840, 2840)\n",
    "user_similarity.shape #(5828, 5828)"
   ]
  },
  {
   "cell_type": "markdown",
   "metadata": {},
   "source": [
    "### Make prediction\n",
    "\n",
    "* item_prediction matrix dim = (num of users, num of items)\n",
    "* user_prediction matrix dim = (num of users, num of items)"
   ]
  },
  {
   "cell_type": "code",
   "execution_count": 20,
   "metadata": {},
   "outputs": [],
   "source": [
    "# Make prediction\n",
    "def predict(matrix, similarity, type='user'):\n",
    "    if type == 'user':\n",
    "        mean_user_rating = matrix.mean(axis=1)\n",
    "        ratings_diff = (matrix - mean_user_rating)\n",
    "        pred = mean_user_rating + similarity.dot(ratings_diff) / np.array([np.abs(similarity).sum(axis=1)]).T\n",
    "    elif type == 'item':\n",
    "        pred = matrix.dot(similarity) / np.array([np.abs(similarity).sum(axis=1)])\n",
    "    return pred\n",
    "\n",
    "item_prediction = predict(matrix_sparse.T, item_similarity, type='item')\n",
    "user_prediction = predict(matrix_sparse.T, user_similarity, type='user')"
   ]
  },
  {
   "cell_type": "markdown",
   "metadata": {},
   "source": [
    "## Memory-based CF using KNNBasic in Surprise\n",
    "\n",
    "We can also use [Surprise](http://surprise.readthedocs.io/en/stable/getting_started.html) (Recommender System library) to implement KNN-inspired algorithms for memory-based CF."
   ]
  },
  {
   "cell_type": "code",
   "execution_count": 21,
   "metadata": {},
   "outputs": [
    {
     "name": "stderr",
     "output_type": "stream",
     "text": [
      "/home/yousef/anaconda3/lib/python3.6/site-packages/surprise/prediction_algorithms/algo_base.py:51: UserWarning: train() is deprecated. Use fit() instead\n",
      "  warnings.warn('train() is deprecated. Use fit() instead', UserWarning)\n"
     ]
    },
    {
     "name": "stdout",
     "output_type": "stream",
     "text": [
      "Computing the cosine similarity matrix...\n",
      "Done computing similarity matrix.\n",
      "user: 000cdac4253f2dcecbd3dff8c5d7cf8cf0426c7a item: john mayer r_ui = None   est = 128.03   {'actual_k': 5, 'was_impossible': False}\n"
     ]
    }
   ],
   "source": [
    "import pandas as pd\n",
    "import numpy as np\n",
    "from surprise import Dataset, Reader, SVD, KNNBasic, evaluate\n",
    "\n",
    "data = Dataset.load_from_df(df[['user', 'artist', 'plays']], Reader(rating_scale=(1, df['plays'].max())))\n",
    "\n",
    "# First, train the algortihm to compute the similarities between items\n",
    "# training is very slow..\n",
    "trainset = data.build_full_trainset()\n",
    "\n",
    "# compute cosine similarities between items\n",
    "sim_options = {'name': 'cosine','user_based': False}\n",
    "knn = KNNBasic(k=5, sim_options=sim_options)\n",
    "knn.train(trainset)\n",
    "\n",
    "# predict a certain item\n",
    "userid = '000cdac4253f2dcecbd3dff8c5d7cf8cf0426c7a'\n",
    "itemid = 'john mayer'\n",
    "print(knn.predict(userid, itemid))"
   ]
  },
  {
   "cell_type": "code",
   "execution_count": 22,
   "metadata": {},
   "outputs": [
    {
     "name": "stdout",
     "output_type": "stream",
     "text": [
      "Actual no. of plays of john mayer by user 0 = 197.0\n"
     ]
    }
   ],
   "source": [
    "# actual rating \n",
    "print(\"Actual no. of plays of john mayer by user 0 =\", matrix.loc[\"john mayer\"][0])"
   ]
  },
  {
   "cell_type": "code",
   "execution_count": null,
   "metadata": {},
   "outputs": [],
   "source": []
  }
 ],
 "metadata": {
  "kernelspec": {
   "display_name": "Python 3",
   "language": "python",
   "name": "python3"
  },
  "language_info": {
   "codemirror_mode": {
    "name": "ipython",
    "version": 3
   },
   "file_extension": ".py",
   "mimetype": "text/x-python",
   "name": "python",
   "nbconvert_exporter": "python",
   "pygments_lexer": "ipython3",
   "version": "3.6.5"
  }
 },
 "nbformat": 4,
 "nbformat_minor": 2
}
